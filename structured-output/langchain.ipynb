{
 "cells": [
  {
   "cell_type": "code",
   "execution_count": null,
   "metadata": {},
   "outputs": [],
   "source": [
    "import sys\n",
    "!{sys.executable} -m pip install langchain langchain_openai pydantic load_dotenv\n",
    "\n",
    "import os\n",
    "from dotenv import load_dotenv\n",
    "from pydantic import BaseModel, Field\n",
    "from langchain_openai import ChatOpenAI\n",
    "\n",
    "load_dotenv()"
   ]
  },
  {
   "cell_type": "code",
   "execution_count": 7,
   "metadata": {},
   "outputs": [],
   "source": [
    "class Movie(BaseModel):\n",
    "    setup: str = Field(description=\"Setup information\")\n",
    "    title: str = Field(description=\"Movie title\")\n",
    "    director: str = Field(description=\"Movie director\")\n",
    "    year: int = Field(description=\"Movie release year\")\n",
    "\n",
    "text = \"Avatar is a 2009 epic science fiction film co-produced, co-edited, written, and directed by James Cameron. The cast includes Sam Worthington, Zoe Saldana, Stephen Lang, Michelle Rodriguez and Sigourney Weaver.[6] It is the first installment in the Avatar film series. It is set in the mid-22nd century, when humans are colonizing Pandora, a lush habitable moon of a gas giant in the Alpha Centauri star system, in order to mine the valuable mineral unobtanium,[c] the room-temperature superconductor mineral. The expansion of the mining colony threatens the continued existence of a local tribe of Na'vi, a humanoid species indigenous to Pandora. The title of the film refers to a genetically engineered Na'vi body operated from the brain of a remotely located human that is used to interact with the natives of Pandora.[10]\";"
   ]
  },
  {
   "cell_type": "code",
   "execution_count": null,
   "metadata": {},
   "outputs": [],
   "source": [
    "llm = ChatOpenAI(model_name=\"gpt-4o-mini\", temperature=0, openai_api_key=os.getenv(\"OPENAI_API_KEY\"))\n",
    "structured_llm = llm.with_structured_output(Movie)\n",
    "\n",
    "prompt = f\"Extract movie info from: {text}\";\n",
    "result = structured_llm.invoke(prompt)\n",
    "\n",
    "print(f\"Title:    {result.title}\")\n",
    "print(f\"Director: {result.director}\")\n",
    "print(f\"Year:     {result.year}\")"
   ]
  }
 ],
 "metadata": {
  "kernelspec": {
   "display_name": ".venv",
   "language": "python",
   "name": "python3"
  },
  "language_info": {
   "codemirror_mode": {
    "name": "ipython",
    "version": 3
   },
   "file_extension": ".py",
   "mimetype": "text/x-python",
   "name": "python",
   "nbconvert_exporter": "python",
   "pygments_lexer": "ipython3",
   "version": "3.11.10"
  }
 },
 "nbformat": 4,
 "nbformat_minor": 2
}
