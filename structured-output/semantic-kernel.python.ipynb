{
 "cells": [
  {
   "cell_type": "code",
   "execution_count": null,
   "metadata": {},
   "outputs": [],
   "source": [
    "import sys\n",
    "!{sys.executable} -m pip install semantic-kernel load_dotenv\n",
    "\n",
    "import json\n",
    "from dotenv import load_dotenv\n",
    "from semantic_kernel import Kernel\n",
    "from semantic_kernel.kernel_pydantic import KernelBaseModel\n",
    "from semantic_kernel.connectors.ai.open_ai.services.open_ai_chat_completion import OpenAIChatCompletion\n",
    "\n",
    "load_dotenv()"
   ]
  },
  {
   "cell_type": "code",
   "execution_count": 5,
   "metadata": {},
   "outputs": [],
   "source": [
    "class Movie(KernelBaseModel):\n",
    "    title: str\n",
    "    director: str\n",
    "    year: int\n",
    "\n",
    "text = \"Avatar is a 2009 epic science fiction film co-produced, co-edited, written, and directed by James Cameron. The cast includes Sam Worthington, Zoe Saldana, Stephen Lang, Michelle Rodriguez and Sigourney Weaver.[6] It is the first installment in the Avatar film series. It is set in the mid-22nd century, when humans are colonizing Pandora, a lush habitable moon of a gas giant in the Alpha Centauri star system, in order to mine the valuable mineral unobtanium,[c] the room-temperature superconductor mineral. The expansion of the mining colony threatens the continued existence of a local tribe of Na'vi, a humanoid species indigenous to Pandora. The title of the film refers to a genetically engineered Na'vi body operated from the brain of a remotely located human that is used to interact with the natives of Pandora.[10]\";"
   ]
  },
  {
   "cell_type": "code",
   "execution_count": null,
   "metadata": {},
   "outputs": [],
   "source": [
    "kernel = Kernel()\n",
    "\n",
    "kernel.add_service(OpenAIChatCompletion(service_id=\"openai\", ai_model_id=\"gpt-4o\"))\n",
    "\n",
    "prompt = f\"Extract movie info from: {text}\";\n",
    "\n",
    "prompt_settings = kernel.get_prompt_execution_settings_from_service_id(service_id=\"openai\")\n",
    "prompt_settings.response_format = Movie\n",
    "\n",
    "chat_function = kernel.add_function(prompt=prompt, function_name=\"chat\", plugin_name=\"chat\", prompt_execution_settings=prompt_settings)\n",
    "\n",
    "function_result = await kernel.invoke(chat_function)\n",
    "result = json.loads(f\"{function_result}\", object_hook=lambda d: Movie(**d))\n",
    "\n",
    "print(f\"Title:    {result.title}\")\n",
    "print(f\"Director: {result.director}\")\n",
    "print(f\"Year:     {result.year}\")"
   ]
  }
 ],
 "metadata": {
  "kernelspec": {
   "display_name": ".venv",
   "language": "python",
   "name": "python3"
  },
  "language_info": {
   "codemirror_mode": {
    "name": "ipython",
    "version": 3
   },
   "file_extension": ".py",
   "mimetype": "text/x-python",
   "name": "python",
   "nbconvert_exporter": "python",
   "pygments_lexer": "ipython3",
   "version": "3.12.7"
  }
 },
 "nbformat": 4,
 "nbformat_minor": 2
}
