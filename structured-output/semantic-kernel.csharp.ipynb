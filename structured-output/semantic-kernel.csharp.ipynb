{
 "cells": [
  {
   "cell_type": "code",
   "execution_count": null,
   "metadata": {
    "dotnet_interactive": {
     "language": "csharp"
    },
    "polyglot_notebook": {
     "kernelName": "csharp"
    }
   },
   "outputs": [],
   "source": [
    "#r \"nuget: Microsoft.SemanticKernel, 1.24.0\"\n",
    "#r \"nuget: dotenv.net, 3.2.1\"\n",
    "\n",
    "using dotenv.net;\n",
    "using System;\n",
    "using System.IO;\n",
    "using System.Text.Json;\n",
    "using Microsoft.SemanticKernel;\n",
    "using Microsoft.Extensions.Logging;\n",
    "using Microsoft.Extensions.Logging.Abstractions;\n",
    "using Microsoft.Extensions.DependencyInjection;\n",
    "using Kernel = Microsoft.SemanticKernel.Kernel;\n",
    "using Microsoft.SemanticKernel.Connectors.OpenAI;\n",
    "\n",
    "DotEnv.Load(options: new DotEnvOptions(envFilePaths: new[] { Path.Join(Environment.CurrentDirectory, \".env\")}));\n",
    "var env = DotEnv.Read();"
   ]
  },
  {
   "cell_type": "code",
   "execution_count": null,
   "metadata": {},
   "outputs": [],
   "source": [
    "public class Movie\n",
    "{\n",
    "    public string Title { get; set; }\n",
    "    public string Director { get; set; }\n",
    "    public int Year { get; set; }\n",
    "}\n",
    "\n",
    "var text = \"Avatar is a 2009 epic science fiction film co-produced, co-edited, written, and directed by James Cameron. The cast includes Sam Worthington, Zoe Saldana, Stephen Lang, Michelle Rodriguez and Sigourney Weaver.[6] It is the first installment in the Avatar film series. It is set in the mid-22nd century, when humans are colonizing Pandora, a lush habitable moon of a gas giant in the Alpha Centauri star system, in order to mine the valuable mineral unobtanium,[c] the room-temperature superconductor mineral. The expansion of the mining colony threatens the continued existence of a local tribe of Na'vi, a humanoid species indigenous to Pandora. The title of the film refers to a genetically engineered Na'vi body operated from the brain of a remotely located human that is used to interact with the natives of Pandora.[10]\";"
   ]
  },
  {
   "cell_type": "code",
   "execution_count": null,
   "metadata": {
    "dotnet_interactive": {
     "language": "csharp"
    },
    "polyglot_notebook": {
     "kernelName": "csharp"
    }
   },
   "outputs": [],
   "source": [
    "#pragma warning disable SKEXP0010\n",
    "\n",
    "var builder = Kernel.CreateBuilder();\n",
    "builder.Services.AddOpenAIChatCompletion(\"gpt-4o-mini\", env[\"OPENAI_API_KEY\"], serviceId: \"oai1\");\n",
    "var kernel = builder.Build();\n",
    "\n",
    "var executionSettings = new OpenAIPromptExecutionSettings\n",
    "{\n",
    "    ResponseFormat = typeof(Movie)\n",
    "};\n",
    "\n",
    "var prompt = $\"Extract movie info from: {text}\";\n",
    "var kernelResult = await kernel.InvokePromptAsync(prompt, new(executionSettings));\n",
    "var result = JsonSerializer.Deserialize<Movie>(kernelResult.ToString());\n",
    "\n",
    "Console.WriteLine($\"Title:    {result.Title}\");\n",
    "Console.WriteLine($\"Director: {result.Director}\");\n",
    "Console.WriteLine($\"Year:     {result.Year}\");"
   ]
  }
 ],
 "metadata": {
  "kernelspec": {
   "display_name": ".NET (C#)",
   "language": "C#",
   "name": ".net-csharp"
  },
  "polyglot_notebook": {
   "kernelInfo": {
    "defaultKernelName": "csharp",
    "items": [
     {
      "aliases": [],
      "languageName": "csharp",
      "name": "csharp"
     }
    ]
   }
  }
 },
 "nbformat": 4,
 "nbformat_minor": 2
}
